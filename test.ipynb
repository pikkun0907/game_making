{
 "cells": [
  {
   "cell_type": "code",
   "execution_count": 11,
   "metadata": {},
   "outputs": [
    {
     "data": {
      "text/plain": [
       "(250, 300)"
      ]
     },
     "execution_count": 11,
     "metadata": {},
     "output_type": "execute_result"
    }
   ],
   "source": [
    "import numpy as np\n",
    "SCREEN_SIZE = (600, 500)\n",
    "CELL_SIZE = 2\n",
    "np.zeros(\n",
    "            (SCREEN_SIZE[1]//CELL_SIZE, SCREEN_SIZE[0]//CELL_SIZE)).shape"
   ]
  },
  {
   "cell_type": "code",
   "execution_count": 4,
   "metadata": {},
   "outputs": [
    {
     "data": {
      "text/plain": [
       "10"
      ]
     },
     "execution_count": 4,
     "metadata": {},
     "output_type": "execute_result"
    }
   ],
   "source": [
    "x=-10\n",
    "x%=20\n",
    "x"
   ]
  },
  {
   "cell_type": "code",
   "execution_count": 7,
   "metadata": {},
   "outputs": [
    {
     "data": {
      "text/plain": [
       "[(10, 110),\n",
       " (155, 110),\n",
       " (300, 110),\n",
       " (445, 110),\n",
       " (10, 255),\n",
       " (155, 255),\n",
       " (300, 255),\n",
       " (445, 255),\n",
       " (10, 400),\n",
       " (155, 400),\n",
       " (300, 400),\n",
       " (445, 400),\n",
       " (10, 545),\n",
       " (155, 545),\n",
       " (300, 545),\n",
       " (445, 545)]"
      ]
     },
     "execution_count": 7,
     "metadata": {},
     "output_type": "execute_result"
    }
   ],
   "source": [
    "[(10+145*x, 110+145*y) for y in range(4) for x in range(4)]"
   ]
  },
  {
   "cell_type": "code",
   "execution_count": 16,
   "metadata": {},
   "outputs": [
    {
     "name": "stdout",
     "output_type": "stream",
     "text": [
      "[0. 0. 0. 0.]\n",
      "[0. 0. 0. 0.]\n",
      "[0. 0. 0. 0.]\n",
      "[0. 0. 0. 0.]\n"
     ]
    }
   ],
   "source": [
    "import numpy as np\n",
    "for i in np.zeros((4,4)):\n",
    "    print(i)"
   ]
  },
  {
   "cell_type": "code",
   "execution_count": 29,
   "metadata": {},
   "outputs": [
    {
     "name": "stdout",
     "output_type": "stream",
     "text": [
      "[[ 1  2  3  4]\n",
      " [ 5  6  7  8]\n",
      " [ 9 10 11 12]\n",
      " [13 14 15 16]]\n",
      "[[13  9  5  1]\n",
      " [14 10  6  2]\n",
      " [15 11  7  3]\n",
      " [16 12  8  4]]\n"
     ]
    },
    {
     "data": {
      "text/plain": [
       "array([[ 1,  2,  3,  4],\n",
       "       [ 5,  6,  7,  8],\n",
       "       [ 9, 10, 11, 12],\n",
       "       [13, 14, 15, 16]])"
      ]
     },
     "execution_count": 29,
     "metadata": {},
     "output_type": "execute_result"
    }
   ],
   "source": [
    "a=np.array([[1,2,3,4],[5,6,7,8],[9,10,11,12],[13,14,15,16]])\n",
    "print(a)\n",
    "print(np.rot90(a,-1))\n",
    "a\n"
   ]
  },
  {
   "cell_type": "code",
   "execution_count": 100,
   "metadata": {},
   "outputs": [
    {
     "name": "stdout",
     "output_type": "stream",
     "text": [
      "[2 2 4 2 0]\n",
      "[4]\n",
      "[4]\n",
      "[4, 4]\n",
      "[4, 4, 2]\n",
      "DOne: [4 4 2 0]\n"
     ]
    }
   ],
   "source": [
    "b=np.array([2,4,2,2])[::-1]\n",
    "row_updated=[]\n",
    "row_=np.append(b[b.nonzero()],0)\n",
    "print(row_)\n",
    "\n",
    "flag=True\n",
    "\n",
    "for idx, ele in enumerate(row_[:-1]):\n",
    "    if ele == row_[idx+1] and flag:\n",
    "        row_updated.append(2*ele)\n",
    "        print(row_updated)\n",
    "        flag=False\n",
    "    else:\n",
    "        if flag:\n",
    "            row_updated.append(ele)\n",
    "        print(row_updated)\n",
    "        flag=True\n",
    "\n",
    "while len(row_updated) < 4:\n",
    "                row_updated = np.append(row_updated, 0)\n",
    "print(\"DOne:\", row_updated)"
   ]
  },
  {
   "cell_type": "code",
   "execution_count": 81,
   "metadata": {},
   "outputs": [
    {
     "data": {
      "text/plain": [
       "array([2, 3])"
      ]
     },
     "execution_count": 81,
     "metadata": {},
     "output_type": "execute_result"
    }
   ],
   "source": [
    "x, y = np.random.choice(\n",
    "            4, 2, replace=False), np.random.choice(4, 2, replace=True)\n",
    "x"
   ]
  },
  {
   "cell_type": "code",
   "execution_count": 97,
   "metadata": {},
   "outputs": [
    {
     "data": {
      "text/plain": [
       "array([[2., 0., 0., 0.],\n",
       "       [0., 0., 0., 0.],\n",
       "       [0., 4., 0., 0.],\n",
       "       [0., 0., 0., 0.]])"
      ]
     },
     "execution_count": 97,
     "metadata": {},
     "output_type": "execute_result"
    }
   ],
   "source": [
    "points = [(x, y) for x in range(4) for y in range(4)]\n",
    "board = np.zeros((4, 4))\n",
    "\n",
    "# 2つの座標をランダムに選択（重複なし）\n",
    "selected_points = np.random.choice(len(points), 2, replace=False)\n",
    "init_loc = [points[i] for i in selected_points]\n",
    "\n",
    "for loc in init_loc:\n",
    "    board[loc]=np.random.choice([2,4])\n",
    "\n",
    "board\n"
   ]
  },
  {
   "cell_type": "code",
   "execution_count": 98,
   "metadata": {},
   "outputs": [],
   "source": [
    "board[1,:]=np.array([1,1,1,1])"
   ]
  },
  {
   "cell_type": "code",
   "execution_count": 134,
   "metadata": {},
   "outputs": [
    {
     "data": {
      "text/plain": [
       "array([[2., 0., 0., 0.],\n",
       "       [1., 1., 1., 1.],\n",
       "       [0., 4., 0., 0.],\n",
       "       [0., 0., 0., 0.]])"
      ]
     },
     "execution_count": 134,
     "metadata": {},
     "output_type": "execute_result"
    }
   ],
   "source": [
    "board"
   ]
  },
  {
   "cell_type": "code",
   "execution_count": 104,
   "metadata": {},
   "outputs": [
    {
     "data": {
      "text/plain": [
       "3"
      ]
     },
     "execution_count": 104,
     "metadata": {},
     "output_type": "execute_result"
    }
   ],
   "source": [
    "a=8\n",
    "len(format(8,'b')[1:])"
   ]
  },
  {
   "cell_type": "code",
   "execution_count": 124,
   "metadata": {},
   "outputs": [
    {
     "data": {
      "text/plain": [
       "array([2])"
      ]
     },
     "execution_count": 124,
     "metadata": {},
     "output_type": "execute_result"
    }
   ],
   "source": [
    "points = [(x, y) for x in range(4) for y in range(4)]\n",
    "occupied_loc=np.argwhere(board.flatten()==0)\n",
    "new_points=[]\n",
    "for loc in occupied_loc:\n",
    "    new_points.append(points[loc[0]])\n",
    "new_points\n",
    "np.random.choice(len(new_points), 1, replace=False)"
   ]
  },
  {
   "cell_type": "code",
   "execution_count": 130,
   "metadata": {},
   "outputs": [
    {
     "data": {
      "text/plain": [
       "False"
      ]
     },
     "execution_count": 130,
     "metadata": {},
     "output_type": "execute_result"
    }
   ],
   "source": [
    "a=[]\n",
    "a is []"
   ]
  },
  {
   "cell_type": "code",
   "execution_count": null,
   "metadata": {},
   "outputs": [],
   "source": []
  }
 ],
 "metadata": {
  "kernelspec": {
   "display_name": ".venv",
   "language": "python",
   "name": "python3"
  },
  "language_info": {
   "codemirror_mode": {
    "name": "ipython",
    "version": 3
   },
   "file_extension": ".py",
   "mimetype": "text/x-python",
   "name": "python",
   "nbconvert_exporter": "python",
   "pygments_lexer": "ipython3",
   "version": "3.9.20"
  }
 },
 "nbformat": 4,
 "nbformat_minor": 2
}
